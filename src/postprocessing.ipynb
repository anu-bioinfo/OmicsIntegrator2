{
 "cells": [
  {
   "cell_type": "code",
   "execution_count": 2,
   "metadata": {
    "collapsed": true
   },
   "outputs": [],
   "source": [
    "import pandas as pd\n",
    "import numpy as np\n",
    "\n",
    "from glob import glob\n",
    "\n",
    "%matplotlib inline\n",
    "\n",
    "import matplotlib\n",
    "import matplotlib.pyplot as plt\n",
    "import seaborn as sns; sns.set()"
   ]
  },
  {
   "cell_type": "markdown",
   "metadata": {},
   "source": [
    "# Prep for heatmap"
   ]
  },
  {
   "cell_type": "code",
   "execution_count": 6,
   "metadata": {},
   "outputs": [
    {
     "data": {
      "text/plain": [
       "['/Users/jonathanli/Documents/research/ALS/network_analysis/iMNs_ALS_CTR_20171206/param_sweep_1/forest/w_1_b_0.75_g_10000.nodes.tsv',\n",
       " '/Users/jonathanli/Documents/research/ALS/network_analysis/iMNs_ALS_CTR_20171206/param_sweep_1/forest/w_0.75_b_0.5_g_3000.nodes.tsv',\n",
       " '/Users/jonathanli/Documents/research/ALS/network_analysis/iMNs_ALS_CTR_20171206/param_sweep_1/forest/w_0.25_b_1.5_g_10000.nodes.tsv',\n",
       " '/Users/jonathanli/Documents/research/ALS/network_analysis/iMNs_ALS_CTR_20171206/param_sweep_1/forest/w_0.25_b_1_g_1000.nodes.tsv',\n",
       " '/Users/jonathanli/Documents/research/ALS/network_analysis/iMNs_ALS_CTR_20171206/param_sweep_1/forest/w_0.75_b_1.5_g_1000.nodes.tsv',\n",
       " '/Users/jonathanli/Documents/research/ALS/network_analysis/iMNs_ALS_CTR_20171206/param_sweep_1/forest/w_0.5_b_0.75_g_10000.nodes.tsv',\n",
       " '/Users/jonathanli/Documents/research/ALS/network_analysis/iMNs_ALS_CTR_20171206/param_sweep_1/forest/w_0.25_b_0.5_g_10000.nodes.tsv',\n",
       " '/Users/jonathanli/Documents/research/ALS/network_analysis/iMNs_ALS_CTR_20171206/param_sweep_1/forest/w_0.75_b_2_g_1000.nodes.tsv',\n",
       " '/Users/jonathanli/Documents/research/ALS/network_analysis/iMNs_ALS_CTR_20171206/param_sweep_1/forest/w_0.75_b_0.75_g_10000.nodes.tsv',\n",
       " '/Users/jonathanli/Documents/research/ALS/network_analysis/iMNs_ALS_CTR_20171206/param_sweep_1/forest/w_0.5_b_1.5_g_1000.nodes.tsv']"
      ]
     },
     "execution_count": 6,
     "metadata": {},
     "output_type": "execute_result"
    }
   ],
   "source": [
    "networks_dir = \"/Users/jonathanli/Documents/research/ALS/network_analysis/iMNs_ALS_CTR_20171206/param_sweep_1/\"\n",
    "files = glob(networks_dir+\"*/*nodes.tsv\")\n",
    "files[:10]"
   ]
  },
  {
   "cell_type": "code",
   "execution_count": 7,
   "metadata": {
    "collapsed": true
   },
   "outputs": [],
   "source": [
    "dic = {}\n",
    "tags = []\n",
    "\n",
    "for file in files: \n",
    "    \n",
    "    tag = file.split('/')[-1].rstrip(\".nodes.tsv\")\n",
    "    tags.append(tag)\n",
    "    \n",
    "    with open(file, 'r') as f: \n",
    "        \n",
    "        f.readline()\n",
    "        \n",
    "        for line in f.readlines(): \n",
    "            \n",
    "            protein, degree, _, prize, node_type = line.rstrip().split('\\t')\n",
    "            \n",
    "            if protein in dic: \n",
    "                \n",
    "                dic[protein][\"membership\"].append(tag)\n",
    "            \n",
    "            else: \n",
    "                \n",
    "                dic[protein] = {}\n",
    "                dic[protein][\"membership\"] = []\n",
    "                dic[protein][\"log_degree\"] = np.log2(int(float(degree)))\n",
    "                dic[protein][\"prize\"] = prize\n",
    "                dic[protein][\"type\"] = node_type"
   ]
  },
  {
   "cell_type": "code",
   "execution_count": 8,
   "metadata": {
    "collapsed": true
   },
   "outputs": [],
   "source": [
    "out = []\n",
    "header = \"\\t\".join([\"gene\", \"prize\", \"type\", \"log_degree\"]+tags)\n",
    "\n",
    "out.append(header)\n",
    "\n",
    "for protein in dic: \n",
    "    row = \"\\t\".join([protein, dic[protein][\"prize\"], dic[protein][\"type\"], str(dic[protein][\"log_degree\"])]+\n",
    "                    [\"1\" if tag in dic[protein][\"membership\"] else \"0\" for tag in tags])\n",
    "    out.append(row)\n",
    "    \n",
    "with open(networks_dir+'/node_membership_summary.tsv', 'w') as f:\n",
    "    f.write(\"\\n\".join(out))"
   ]
  },
  {
   "cell_type": "markdown",
   "metadata": {},
   "source": [
    "# Randomizations summary"
   ]
  },
  {
   "cell_type": "code",
   "execution_count": 71,
   "metadata": {},
   "outputs": [
    {
     "data": {
      "text/plain": [
       "['/Users/jonathanli/Documents/research/ALS/network_analysis/iMNs_ALS_CTR_20171113/param_sweep_3/robust_network/w_10_b_0.25_g_10.nodes.tsv',\n",
       " '/Users/jonathanli/Documents/research/ALS/network_analysis/iMNs_ALS_CTR_20171113/param_sweep_3/robust_network/w_10_b_0.25_g_100.nodes.tsv',\n",
       " '/Users/jonathanli/Documents/research/ALS/network_analysis/iMNs_ALS_CTR_20171113/param_sweep_3/robust_network/w_10_b_0.25_g_1000.nodes.tsv',\n",
       " '/Users/jonathanli/Documents/research/ALS/network_analysis/iMNs_ALS_CTR_20171113/param_sweep_3/robust_network/w_10_b_0.25_g_30.nodes.tsv',\n",
       " '/Users/jonathanli/Documents/research/ALS/network_analysis/iMNs_ALS_CTR_20171113/param_sweep_3/robust_network/w_10_b_0.25_g_300.nodes.tsv',\n",
       " '/Users/jonathanli/Documents/research/ALS/network_analysis/iMNs_ALS_CTR_20171113/param_sweep_3/robust_network/w_10_b_0.5_g_10.nodes.tsv',\n",
       " '/Users/jonathanli/Documents/research/ALS/network_analysis/iMNs_ALS_CTR_20171113/param_sweep_3/robust_network/w_10_b_0.5_g_100.nodes.tsv',\n",
       " '/Users/jonathanli/Documents/research/ALS/network_analysis/iMNs_ALS_CTR_20171113/param_sweep_3/robust_network/w_10_b_0.5_g_1000.nodes.tsv',\n",
       " '/Users/jonathanli/Documents/research/ALS/network_analysis/iMNs_ALS_CTR_20171113/param_sweep_3/robust_network/w_10_b_0.5_g_10000.nodes.tsv',\n",
       " '/Users/jonathanli/Documents/research/ALS/network_analysis/iMNs_ALS_CTR_20171113/param_sweep_3/robust_network/w_10_b_0.5_g_30.nodes.tsv']"
      ]
     },
     "execution_count": 71,
     "metadata": {},
     "output_type": "execute_result"
    }
   ],
   "source": [
    "networks_dir = \"/Users/jonathanli/Documents/research/ALS/network_analysis/iMNs_ALS_CTR_20171113/param_sweep_3/\"\n",
    "files = glob(networks_dir+\"*/*nodes.tsv\")\n",
    "files[:10]"
   ]
  },
  {
   "cell_type": "code",
   "execution_count": 100,
   "metadata": {
    "collapsed": true
   },
   "outputs": [],
   "source": [
    "from functools import reduce\n",
    "\n",
    "dfs_robustness = []\n",
    "dfs_specificity = []\n",
    "dic = {}\n",
    "\n",
    "for file in files: \n",
    "    \n",
    "    tag = file.split('/')[-1].rstrip(\".nodes.tsv\")\n",
    "    \n",
    "    df = pd.read_csv(file, sep='\\t')\n",
    "    df_robustness = df[[\"protein\", \"robustness\"]]\n",
    "    df_robustness.columns = [\"protein\", tag]\n",
    "    dfs_robustness.append(df_robustness)\n",
    "    \n",
    "    df_specificity = df[[\"protein\", \"specificity\"]]\n",
    "    df_specificity.columns = [\"protein\", tag]\n",
    "    dfs_specificity.append(df_specificity)\n",
    "    \n",
    "    with open(file, 'r') as f: \n",
    "        f.readline()\n",
    "        for line in f.readlines(): \n",
    "            protein, degree, _, prize, robustness, specificity, node_type = line.rstrip().split('\\t')\n",
    "            if protein not in dic: \n",
    "                dic[protein] = {}\n",
    "                dic[protein][\"log_degree\"] = np.log2(int(float(degree)))\n",
    "                dic[protein][\"prize\"] = prize\n",
    "                dic[protein][\"type\"] = node_type\n",
    "                \n",
    "                \n",
    "attribs = pd.DataFrame.from_dict(dic, orient=\"index\")    \n",
    "    \n",
    "df_robustness_final = reduce(lambda left,right: pd.merge(left,right,on='protein', how='outer'), dfs_robustness)\n",
    "df_robustness_final.dropna(thresh=20,inplace=True)\n",
    "df_robustness_final.fillna(0, inplace=True)\n",
    "\n",
    "df_specificity_final = reduce(lambda left,right: pd.merge(left,right,on='protein', how='outer'), dfs_specificity)\n",
    "df_robustness_final.dropna(thresh=30,inplace=True)\n",
    "df_specificity_final.fillna(0, inplace=True)\n"
   ]
  },
  {
   "cell_type": "code",
   "execution_count": 101,
   "metadata": {},
   "outputs": [
    {
     "data": {
      "text/plain": [
       "((1047, 41), (2218, 41))"
      ]
     },
     "execution_count": 101,
     "metadata": {},
     "output_type": "execute_result"
    }
   ],
   "source": [
    "df_robustness_final.shape, df_specificity_final.shape"
   ]
  },
  {
   "cell_type": "code",
   "execution_count": 102,
   "metadata": {
    "collapsed": true
   },
   "outputs": [],
   "source": [
    "df_robustness_final = df_robustness_final.merge(attribs, left_on=\"protein\", right_index=True, how='left')\n",
    "df_specificity_final = df_specificity_final.merge(attribs, left_on=\"protein\", right_index=True, how='left')\n",
    "\n",
    "df_robustness_final.to_csv(networks_dir+'/robustness_summary.tsv', sep='\\t', index=False)\n",
    "df_specificity_final.to_csv(networks_dir+'/specificity_summary.tsv', sep='\\t', index=False)"
   ]
  },
  {
   "cell_type": "markdown",
   "metadata": {
    "collapsed": true
   },
   "source": [
    "# Node membership clustergram"
   ]
  },
  {
   "cell_type": "code",
   "execution_count": 6,
   "metadata": {
    "scrolled": true
   },
   "outputs": [
    {
     "data": {
      "text/plain": [
       "['/Users/jonathanli/Documents/research/ALS/network_analysis/iMNs_ALS_CTR_20171113/param_sweep_1/forest/w_10_b_0.25_g_10.nodes.tsv',\n",
       " '/Users/jonathanli/Documents/research/ALS/network_analysis/iMNs_ALS_CTR_20171113/param_sweep_1/forest/w_10_b_0.25_g_100.nodes.tsv',\n",
       " '/Users/jonathanli/Documents/research/ALS/network_analysis/iMNs_ALS_CTR_20171113/param_sweep_1/forest/w_10_b_0.25_g_30.nodes.tsv',\n",
       " '/Users/jonathanli/Documents/research/ALS/network_analysis/iMNs_ALS_CTR_20171113/param_sweep_1/forest/w_10_b_0.25_g_300.nodes.tsv',\n",
       " '/Users/jonathanli/Documents/research/ALS/network_analysis/iMNs_ALS_CTR_20171113/param_sweep_1/forest/w_10_b_0.5_g_10.nodes.tsv',\n",
       " '/Users/jonathanli/Documents/research/ALS/network_analysis/iMNs_ALS_CTR_20171113/param_sweep_1/forest/w_10_b_0.5_g_100.nodes.tsv',\n",
       " '/Users/jonathanli/Documents/research/ALS/network_analysis/iMNs_ALS_CTR_20171113/param_sweep_1/forest/w_10_b_0.5_g_1000.nodes.tsv',\n",
       " '/Users/jonathanli/Documents/research/ALS/network_analysis/iMNs_ALS_CTR_20171113/param_sweep_1/forest/w_10_b_0.5_g_10000.nodes.tsv',\n",
       " '/Users/jonathanli/Documents/research/ALS/network_analysis/iMNs_ALS_CTR_20171113/param_sweep_1/forest/w_10_b_0.5_g_30.nodes.tsv',\n",
       " '/Users/jonathanli/Documents/research/ALS/network_analysis/iMNs_ALS_CTR_20171113/param_sweep_1/forest/w_10_b_0.5_g_300.nodes.tsv']"
      ]
     },
     "execution_count": 6,
     "metadata": {},
     "output_type": "execute_result"
    }
   ],
   "source": [
    "networks_dir = \"/Users/jonathanli/Documents/research/ALS/network_analysis/iMNs_ALS_CTR_20171113/param_sweep_1/\"\n",
    "\n",
    "files = glob(networks_dir+\"*/*nodes.tsv\")\n",
    "\n",
    "files[:10]"
   ]
  },
  {
   "cell_type": "code",
   "execution_count": 7,
   "metadata": {
    "collapsed": true
   },
   "outputs": [],
   "source": [
    "dfs = []\n",
    "mapper = {\"steiner\": 1, \"TF\": 2, \"terminal\": 3}\n",
    "\n",
    "for file in files: \n",
    "    tag = file.split('/')[-1].rstrip(\".nodes.tsv\")\n",
    "    \n",
    "    df = pd.read_csv(file, sep='\\t')\n",
    "    df[tag] = df[\"type\"].apply(lambda x: mapper[x])\n",
    "    df = df[[\"protein\", tag]].set_index(\"protein\")\n",
    "    \n",
    "    dfs.append(df)\n",
    "    \n",
    "merged = pd.concat(dfs, axis=1).fillna(0)"
   ]
  },
  {
   "cell_type": "code",
   "execution_count": 9,
   "metadata": {},
   "outputs": [
    {
     "data": {
      "text/html": [
       "<div>\n",
       "<table border=\"1\" class=\"dataframe\">\n",
       "  <thead>\n",
       "    <tr style=\"text-align: right;\">\n",
       "      <th></th>\n",
       "      <th>w_10_b_0.25_g_10</th>\n",
       "      <th>w_10_b_0.25_g_100</th>\n",
       "      <th>w_10_b_0.25_g_30</th>\n",
       "      <th>w_10_b_0.25_g_300</th>\n",
       "      <th>w_10_b_0.5_g_10</th>\n",
       "      <th>w_10_b_0.5_g_100</th>\n",
       "      <th>w_10_b_0.5_g_1000</th>\n",
       "      <th>w_10_b_0.5_g_10000</th>\n",
       "      <th>w_10_b_0.5_g_30</th>\n",
       "      <th>w_10_b_0.5_g_300</th>\n",
       "      <th>...</th>\n",
       "      <th>w_10_b_1_g_30</th>\n",
       "      <th>w_10_b_1_g_300</th>\n",
       "      <th>w_10_b_1_g_3000</th>\n",
       "      <th>w_10_b_2_g_10</th>\n",
       "      <th>w_10_b_2_g_100</th>\n",
       "      <th>w_10_b_2_g_1000</th>\n",
       "      <th>w_10_b_2_g_10000</th>\n",
       "      <th>w_10_b_2_g_30</th>\n",
       "      <th>w_10_b_2_g_300</th>\n",
       "      <th>w_10_b_2_g_3000</th>\n",
       "    </tr>\n",
       "  </thead>\n",
       "  <tbody>\n",
       "    <tr>\n",
       "      <th>AAK1</th>\n",
       "      <td>0.0</td>\n",
       "      <td>0.0</td>\n",
       "      <td>0.0</td>\n",
       "      <td>0.0</td>\n",
       "      <td>0.0</td>\n",
       "      <td>0.0</td>\n",
       "      <td>0.0</td>\n",
       "      <td>0.0</td>\n",
       "      <td>0.0</td>\n",
       "      <td>0.0</td>\n",
       "      <td>...</td>\n",
       "      <td>0.0</td>\n",
       "      <td>0.0</td>\n",
       "      <td>0.0</td>\n",
       "      <td>3.0</td>\n",
       "      <td>0.0</td>\n",
       "      <td>0.0</td>\n",
       "      <td>0.0</td>\n",
       "      <td>3.0</td>\n",
       "      <td>0.0</td>\n",
       "      <td>0.0</td>\n",
       "    </tr>\n",
       "    <tr>\n",
       "      <th>AARS</th>\n",
       "      <td>0.0</td>\n",
       "      <td>0.0</td>\n",
       "      <td>0.0</td>\n",
       "      <td>0.0</td>\n",
       "      <td>3.0</td>\n",
       "      <td>0.0</td>\n",
       "      <td>0.0</td>\n",
       "      <td>0.0</td>\n",
       "      <td>0.0</td>\n",
       "      <td>0.0</td>\n",
       "      <td>...</td>\n",
       "      <td>3.0</td>\n",
       "      <td>0.0</td>\n",
       "      <td>0.0</td>\n",
       "      <td>3.0</td>\n",
       "      <td>3.0</td>\n",
       "      <td>3.0</td>\n",
       "      <td>3.0</td>\n",
       "      <td>3.0</td>\n",
       "      <td>3.0</td>\n",
       "      <td>3.0</td>\n",
       "    </tr>\n",
       "    <tr>\n",
       "      <th>AASDHPPT</th>\n",
       "      <td>3.0</td>\n",
       "      <td>0.0</td>\n",
       "      <td>0.0</td>\n",
       "      <td>0.0</td>\n",
       "      <td>3.0</td>\n",
       "      <td>0.0</td>\n",
       "      <td>0.0</td>\n",
       "      <td>0.0</td>\n",
       "      <td>3.0</td>\n",
       "      <td>0.0</td>\n",
       "      <td>...</td>\n",
       "      <td>3.0</td>\n",
       "      <td>3.0</td>\n",
       "      <td>3.0</td>\n",
       "      <td>3.0</td>\n",
       "      <td>3.0</td>\n",
       "      <td>3.0</td>\n",
       "      <td>3.0</td>\n",
       "      <td>3.0</td>\n",
       "      <td>3.0</td>\n",
       "      <td>3.0</td>\n",
       "    </tr>\n",
       "    <tr>\n",
       "      <th>AASS</th>\n",
       "      <td>0.0</td>\n",
       "      <td>0.0</td>\n",
       "      <td>0.0</td>\n",
       "      <td>0.0</td>\n",
       "      <td>0.0</td>\n",
       "      <td>0.0</td>\n",
       "      <td>0.0</td>\n",
       "      <td>0.0</td>\n",
       "      <td>0.0</td>\n",
       "      <td>0.0</td>\n",
       "      <td>...</td>\n",
       "      <td>3.0</td>\n",
       "      <td>0.0</td>\n",
       "      <td>0.0</td>\n",
       "      <td>3.0</td>\n",
       "      <td>3.0</td>\n",
       "      <td>3.0</td>\n",
       "      <td>3.0</td>\n",
       "      <td>3.0</td>\n",
       "      <td>3.0</td>\n",
       "      <td>3.0</td>\n",
       "    </tr>\n",
       "    <tr>\n",
       "      <th>ABAT</th>\n",
       "      <td>0.0</td>\n",
       "      <td>0.0</td>\n",
       "      <td>0.0</td>\n",
       "      <td>0.0</td>\n",
       "      <td>3.0</td>\n",
       "      <td>3.0</td>\n",
       "      <td>3.0</td>\n",
       "      <td>3.0</td>\n",
       "      <td>3.0</td>\n",
       "      <td>3.0</td>\n",
       "      <td>...</td>\n",
       "      <td>3.0</td>\n",
       "      <td>3.0</td>\n",
       "      <td>3.0</td>\n",
       "      <td>3.0</td>\n",
       "      <td>3.0</td>\n",
       "      <td>3.0</td>\n",
       "      <td>3.0</td>\n",
       "      <td>3.0</td>\n",
       "      <td>3.0</td>\n",
       "      <td>3.0</td>\n",
       "    </tr>\n",
       "  </tbody>\n",
       "</table>\n",
       "<p>5 rows × 53 columns</p>\n",
       "</div>"
      ],
      "text/plain": [
       "          w_10_b_0.25_g_10  w_10_b_0.25_g_100  w_10_b_0.25_g_30  \\\n",
       "AAK1                   0.0                0.0               0.0   \n",
       "AARS                   0.0                0.0               0.0   \n",
       "AASDHPPT               3.0                0.0               0.0   \n",
       "AASS                   0.0                0.0               0.0   \n",
       "ABAT                   0.0                0.0               0.0   \n",
       "\n",
       "          w_10_b_0.25_g_300  w_10_b_0.5_g_10  w_10_b_0.5_g_100  \\\n",
       "AAK1                    0.0              0.0               0.0   \n",
       "AARS                    0.0              3.0               0.0   \n",
       "AASDHPPT                0.0              3.0               0.0   \n",
       "AASS                    0.0              0.0               0.0   \n",
       "ABAT                    0.0              3.0               3.0   \n",
       "\n",
       "          w_10_b_0.5_g_1000  w_10_b_0.5_g_10000  w_10_b_0.5_g_30  \\\n",
       "AAK1                    0.0                 0.0              0.0   \n",
       "AARS                    0.0                 0.0              0.0   \n",
       "AASDHPPT                0.0                 0.0              3.0   \n",
       "AASS                    0.0                 0.0              0.0   \n",
       "ABAT                    3.0                 3.0              3.0   \n",
       "\n",
       "          w_10_b_0.5_g_300       ...         w_10_b_1_g_30  w_10_b_1_g_300  \\\n",
       "AAK1                   0.0       ...                   0.0             0.0   \n",
       "AARS                   0.0       ...                   3.0             0.0   \n",
       "AASDHPPT               0.0       ...                   3.0             3.0   \n",
       "AASS                   0.0       ...                   3.0             0.0   \n",
       "ABAT                   3.0       ...                   3.0             3.0   \n",
       "\n",
       "          w_10_b_1_g_3000  w_10_b_2_g_10  w_10_b_2_g_100  w_10_b_2_g_1000  \\\n",
       "AAK1                  0.0            3.0             0.0              0.0   \n",
       "AARS                  0.0            3.0             3.0              3.0   \n",
       "AASDHPPT              3.0            3.0             3.0              3.0   \n",
       "AASS                  0.0            3.0             3.0              3.0   \n",
       "ABAT                  3.0            3.0             3.0              3.0   \n",
       "\n",
       "          w_10_b_2_g_10000  w_10_b_2_g_30  w_10_b_2_g_300  w_10_b_2_g_3000  \n",
       "AAK1                   0.0            3.0             0.0              0.0  \n",
       "AARS                   3.0            3.0             3.0              3.0  \n",
       "AASDHPPT               3.0            3.0             3.0              3.0  \n",
       "AASS                   3.0            3.0             3.0              3.0  \n",
       "ABAT                   3.0            3.0             3.0              3.0  \n",
       "\n",
       "[5 rows x 53 columns]"
      ]
     },
     "execution_count": 9,
     "metadata": {},
     "output_type": "execute_result"
    }
   ],
   "source": [
    "merged.head()"
   ]
  },
  {
   "cell_type": "code",
   "execution_count": 8,
   "metadata": {},
   "outputs": [
    {
     "name": "stderr",
     "output_type": "stream",
     "text": [
      "/Users/jonathanli/anaconda/envs/py3k/lib/python3.6/site-packages/matplotlib/cbook.py:136: MatplotlibDeprecationWarning: The axisbg attribute was deprecated in version 2.0. Use facecolor instead.\n",
      "  warnings.warn(message, mplDeprecation, stacklevel=1)\n"
     ]
    },
    {
     "data": {
      "image/png": "[encoded data removed]",
      "text/plain": [
       "<matplotlib.figure.Figure at 0x1208cee10>"
      ]
     },
     "metadata": {},
     "output_type": "display_data"
    }
   ],
   "source": [
    "sns.set(font_scale=0.5)\n",
    "\n",
    "# steiner: blue, TF: green, terminal: red\n",
    "palette = sns.color_palette(\"pastel\")\n",
    "row_colors = merged.max(axis=1).map({i:palette[i-1] for i in range(len(palette))})\n",
    "\n",
    "cm = sns.clustermap(merged>0, row_colors=row_colors, cmap=sns.cubehelix_palette(dark=0, light=1, hue=0, as_cmap=True))\n",
    "\n",
    "hm = cm.ax_heatmap.get_position()\n",
    "plt.setp(cm.ax_heatmap.xaxis.get_majorticklabels(), fontsize=4)\n",
    "plt.setp(cm.ax_heatmap.yaxis.get_majorticklabels(), fontsize=3)\n",
    "cm.ax_heatmap.set_position([hm.x0, hm.y0, hm.width, hm.height])\n",
    "col = cm.ax_col_dendrogram.get_position()\n",
    "cm.ax_col_dendrogram.set_position([col.x0, col.y0, col.width, col.height*0.5])\n",
    "\n",
    "cm.savefig(networks_dir+'/param_node_membership.pdf')"
   ]
  },
  {
   "cell_type": "code",
   "execution_count": null,
   "metadata": {
    "collapsed": true
   },
   "outputs": [],
   "source": []
  }
 ],
 "metadata": {
  "kernelspec": {
   "display_name": "Python 3",
   "language": "python",
   "name": "python3"
  },
  "language_info": {
   "codemirror_mode": {
    "name": "ipython",
    "version": 3
   },
   "file_extension": ".py",
   "mimetype": "text/x-python",
   "name": "python",
   "nbconvert_exporter": "python",
   "pygments_lexer": "ipython3",
   "version": "3.6.0"
  }
 },
 "nbformat": 4,
 "nbformat_minor": 2
}
